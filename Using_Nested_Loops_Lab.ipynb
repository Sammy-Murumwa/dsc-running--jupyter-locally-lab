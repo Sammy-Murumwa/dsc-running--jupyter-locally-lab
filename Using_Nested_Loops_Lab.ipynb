{
  "cells": [
    {
      "cell_type": "markdown",
      "metadata": {
        "id": "view-in-github",
        "colab_type": "text"
      },
      "source": [
        "<a href=\"https://colab.research.google.com/github/Sammy-Murumwa/dsc-running-jupyter-locally/blob/master/Using_Nested_Loops_Lab.ipynb\" target=\"_parent\"><img src=\"https://colab.research.google.com/assets/colab-badge.svg\" alt=\"Open In Colab\"/></a>"
      ]
    },
    {
      "cell_type": "markdown",
      "metadata": {
        "id": "ri6IV5NGYNCp"
      },
      "source": [
        "# Using Nested Loops - Lab"
      ]
    },
    {
      "cell_type": "markdown",
      "metadata": {
        "id": "bTTQiVmBYNCr"
      },
      "source": [
        "## Introduction\n",
        "In this lab, you'll practice using nested loops to iterate over nested data structures and create new collections. To do this, you'll be using data from a soccer match to practice our nested loops."
      ]
    },
    {
      "cell_type": "markdown",
      "metadata": {
        "id": "W5Mrs7ezYNCr"
      },
      "source": [
        "## Objectives\n",
        "\n",
        "You will be able to:\n",
        "\n",
        "* Use a nested loop when it is appropriate"
      ]
    },
    {
      "cell_type": "markdown",
      "metadata": {
        "id": "bzqIxl5IYNCs"
      },
      "source": [
        "## Instructions"
      ]
    },
    {
      "cell_type": "markdown",
      "metadata": {
        "id": "8oSwMc42YNCs"
      },
      "source": [
        "Use nested loops and the below object, `soccer_match`, to complete the following prompts and get the desired return values."
      ]
    },
    {
      "cell_type": "code",
      "execution_count": 1,
      "metadata": {
        "id": "nTvz3oziYNCs"
      },
      "outputs": [],
      "source": [
        "# Run this cell without changes\n",
        "soccer_match = [\n",
        "  { \"home_team\": True,\n",
        "    \"away_team\": False,\n",
        "    \"country\": \"France\",\n",
        "    \"num_passes\": 484,\n",
        "    \"passes_completed\": 423,\n",
        "    \"fouls_committed\": 16,\n",
        "    \"colors\": [\"blue\", \"white\", \"red\"],\n",
        "    \"players\": [\n",
        "      {\n",
        "        \"name\": \"Hugo LLORIS\",\n",
        "        \"captain\": True,\n",
        "        \"shirt_number\": 1,\n",
        "        \"position\": \"Goalie\"\n",
        "      },\n",
        "      {\n",
        "        \"name\": \"Benjamin PAVARD\",\n",
        "        \"captain\": False,\n",
        "        \"shirt_number\": 2,\n",
        "        \"position\": \"Defender\"\n",
        "      },\n",
        "      {\n",
        "        \"name\": \"Raphael VARANE\",\n",
        "        \"captain\": False,\n",
        "        \"shirt_number\": 4,\n",
        "        \"position\": \"Defender\"\n",
        "      },\n",
        "      {\n",
        "        \"name\": \"Samuel UMTITI\",\n",
        "        \"captain\": False,\n",
        "        \"shirt_number\": 5,\n",
        "        \"position\": \"Defender\"\n",
        "      },\n",
        "      {\n",
        "        \"name\": \"Paul POGBA\",\n",
        "        \"captain\": False,\n",
        "        \"shirt_number\": 6,\n",
        "        \"position\": \"Midfield\"\n",
        "      },\n",
        "      {\n",
        "        \"name\": \"Antoine GRIEZMANN\",\n",
        "        \"captain\": False,\n",
        "        \"shirt_number\": 7,\n",
        "        \"position\": \"Forward\"\n",
        "      },\n",
        "      {\n",
        "        \"name\": \"Kylian MBAPPE\",\n",
        "        \"captain\": False,\n",
        "        \"shirt_number\": 10,\n",
        "        \"position\": \"Forward\"\n",
        "      },\n",
        "      {\n",
        "        \"name\": \"Ousmane DEMBELE\",\n",
        "        \"captain\": False,\n",
        "        \"shirt_number\": 11,\n",
        "        \"position\": \"Forward\"\n",
        "      },\n",
        "      {\n",
        "        \"name\": \"Corentin TOLISSO\",\n",
        "        \"captain\": False,\n",
        "        \"shirt_number\": 12,\n",
        "        \"position\": \"Midfield\"\n",
        "      },\n",
        "      {\n",
        "        \"name\": \"Ngolo KANTE\",\n",
        "        \"captain\": False,\n",
        "        \"shirt_number\": 13,\n",
        "        \"position\": \"Midfield\"\n",
        "      },\n",
        "      {\n",
        "        \"name\": \"Lucas HERNANDEZ\",\n",
        "        \"captain\": False,\n",
        "        \"shirt_number\": 21,\n",
        "        \"position\": \"Defender\"\n",
        "      }\n",
        "    ],\n",
        "  },\n",
        "  { \"home_team\": False,\n",
        "    \"away_team\": True,\n",
        "    \"country\": \"Australia\",\n",
        "    \"num_passes\": 390,\n",
        "    \"passes_completed\": 332,\n",
        "    \"fouls_committed\": 19,\n",
        "    \"colors\": [\"green\", \"gold\"],\n",
        "    \"players\": [\n",
        "      {\n",
        "        \"name\": \"Mathew RYAN\",\n",
        "        \"captain\": False,\n",
        "        \"shirt_number\": 1,\n",
        "        \"position\": \"Goalie\"\n",
        "      },\n",
        "      {\n",
        "        \"name\": \"Mark MILLIGAN\",\n",
        "        \"captain\": False,\n",
        "        \"shirt_number\": 5,\n",
        "        \"position\": \"Defender\"\n",
        "      },\n",
        "      {\n",
        "        \"name\": \"Mathew LECKIE\",\n",
        "        \"captain\": False,\n",
        "        \"shirt_number\": 7,\n",
        "        \"position\": \"Forward\"\n",
        "      },\n",
        "      {\n",
        "        \"name\": \"Robbie KRUSE\",\n",
        "        \"captain\": False,\n",
        "        \"shirt_number\": 10,\n",
        "        \"position\": \"Forward\"\n",
        "      },\n",
        "      {\n",
        "        \"name\": \"Andrew NABBOUT\",\n",
        "        \"captain\": False,\n",
        "        \"shirt_number\": 11,\n",
        "        \"position\": \"Forward\"\n",
        "      },\n",
        "      {\n",
        "        \"name\": \"Aaron MOOY\",\n",
        "        \"captain\": False,\n",
        "        \"shirt_number\": 13,\n",
        "        \"position\": \"Midfield\"\n",
        "      },\n",
        "      {\n",
        "        \"name\": \"Mile JEDINAK\",\n",
        "        \"captain\": True,\n",
        "        \"shirt_number\": 15,\n",
        "        \"position\": \"Midfield\"\n",
        "      },\n",
        "      {\n",
        "        \"name\": \"Aziz BEHICH\",\n",
        "        \"captain\": False,\n",
        "        \"shirt_number\": 16,\n",
        "        \"position\": \"Defender\"\n",
        "      },\n",
        "      {\n",
        "        \"name\": \"Joshua RISDON\",\n",
        "        \"captain\": False,\n",
        "        \"shirt_number\": 19,\n",
        "        \"position\": \"Defender\"\n",
        "      },\n",
        "      {\n",
        "        \"name\": \"Trent SAINSBURY\",\n",
        "        \"captain\": False,\n",
        "        \"shirt_number\": 20,\n",
        "        \"position\": \"Defender\"\n",
        "      },\n",
        "      {\n",
        "        \"name\": \"Tom ROGIC\",\n",
        "        \"captain\": False,\n",
        "        \"shirt_number\": 23,\n",
        "        \"position\": \"Midfield\"\n",
        "      }\n",
        "    ]\n",
        "  }\n",
        "]"
      ]
    },
    {
      "cell_type": "markdown",
      "metadata": {
        "id": "lTdJMbKfYNCt"
      },
      "source": [
        "Let's take a look at some properties of this nested data structure:"
      ]
    },
    {
      "cell_type": "code",
      "execution_count": 2,
      "metadata": {
        "id": "q0HQUkGCYNCt",
        "outputId": "b5b084c6-67b1-42f4-93c6-78395cb718ff",
        "colab": {
          "base_uri": "https://localhost:8080/"
        }
      },
      "outputs": [
        {
          "output_type": "stream",
          "name": "stdout",
          "text": [
            "Information about soccer_match\n",
            "Type: <class 'list'>\n",
            "Length: 2\n",
            "\n",
            "Information about soccer_match[0]:\n",
            "Type: <class 'dict'>\n",
            "Length: 8\n",
            "Keys: dict_keys(['home_team', 'away_team', 'country', 'num_passes', 'passes_completed', 'fouls_committed', 'colors', 'players'])\n",
            "Values: dict_values([False, True, 'Australia', 390, 332, 19, ['green', 'gold'], [{'name': 'Mathew RYAN', 'captain': False, 'shirt_number': 1, 'position': 'Goalie'}, {'name': 'Mark MILLIGAN', 'captain': False, 'shirt_number': 5, 'position': 'Defender'}, {'name': 'Mathew LECKIE', 'captain': False, 'shirt_number': 7, 'position': 'Forward'}, {'name': 'Robbie KRUSE', 'captain': False, 'shirt_number': 10, 'position': 'Forward'}, {'name': 'Andrew NABBOUT', 'captain': False, 'shirt_number': 11, 'position': 'Forward'}, {'name': 'Aaron MOOY', 'captain': False, 'shirt_number': 13, 'position': 'Midfield'}, {'name': 'Mile JEDINAK', 'captain': True, 'shirt_number': 15, 'position': 'Midfield'}, {'name': 'Aziz BEHICH', 'captain': False, 'shirt_number': 16, 'position': 'Defender'}, {'name': 'Joshua RISDON', 'captain': False, 'shirt_number': 19, 'position': 'Defender'}, {'name': 'Trent SAINSBURY', 'captain': False, 'shirt_number': 20, 'position': 'Defender'}, {'name': 'Tom ROGIC', 'captain': False, 'shirt_number': 23, 'position': 'Midfield'}]])\n"
          ]
        }
      ],
      "source": [
        "# Run this cell without changes\n",
        "\n",
        "print(\"Information about soccer_match\")\n",
        "print(\"Type:\", type(soccer_match))\n",
        "print(\"Length:\", len(soccer_match))\n",
        "print()\n",
        "\n",
        "print(\"Information about soccer_match[0]:\")\n",
        "print(\"Type:\", type(soccer_match[0]))\n",
        "print(\"Length:\", len(soccer_match[0]))\n",
        "print(\"Keys:\", soccer_match[0].keys())\n",
        "print(\"Values:\", soccer_match[1].values())"
      ]
    },
    {
      "cell_type": "markdown",
      "metadata": {
        "id": "ZUBHyk7qYNCt"
      },
      "source": [
        "Before looking at the answer below, try to identify: **what does `soccer_match` represent overall, and what does each record within `soccer_match` represent?**\n",
        "\n",
        ".\n",
        "\n",
        ".\n",
        "\n",
        ".\n",
        "\n",
        "*`soccer_match` represents a soccer match (game) containing a home team and an away team. Each record within `soccer_match` represents a team that participated in the match, and their associated stats.*"
      ]
    },
    {
      "cell_type": "markdown",
      "metadata": {
        "id": "Iob6rEhsYNCu"
      },
      "source": [
        "## Countries: A List of Strings\n",
        "\n",
        "In the cell below, iterate over the `soccer_match` list to create a new list with the name of the country for each team."
      ]
    },
    {
      "cell_type": "code",
      "execution_count": 3,
      "metadata": {
        "id": "FIx_wxCYYNCu",
        "outputId": "bcdd93eb-dfae-43e7-de9e-0ff91a9f0798",
        "colab": {
          "base_uri": "https://localhost:8080/"
        }
      },
      "outputs": [
        {
          "output_type": "execute_result",
          "data": {
            "text/plain": [
              "[]"
            ]
          },
          "metadata": {},
          "execution_count": 3
        }
      ],
      "source": [
        "countries = []\n",
        "\n",
        "# Your code here\n",
        "\n",
        "countries # ['France', 'Australia']"
      ]
    },
    {
      "cell_type": "markdown",
      "metadata": {
        "id": "Jqhht7wPYNCu"
      },
      "source": [
        "## Colors: Another List of Strings!\n",
        "\n",
        "In the cell below, iterate over the `soccer_match` list to create a new list with the colors for each team.\n",
        "\n",
        "This should be only one list containing strings for each of the country's colors, not a list of lists."
      ]
    },
    {
      "cell_type": "code",
      "execution_count": 4,
      "metadata": {
        "id": "FCuqNaIwYNCu",
        "outputId": "3798ddfd-3e08-4c2e-8540-a433626ef13b",
        "colab": {
          "base_uri": "https://localhost:8080/"
        }
      },
      "outputs": [
        {
          "output_type": "execute_result",
          "data": {
            "text/plain": [
              "[]"
            ]
          },
          "metadata": {},
          "execution_count": 4
        }
      ],
      "source": [
        "colors = []\n",
        "\n",
        "# Your code here\n",
        "\n",
        "colors # ['blue', 'white', 'red', 'green', 'gold']"
      ]
    },
    {
      "cell_type": "markdown",
      "metadata": {
        "id": "sPMerklLYNCu"
      },
      "source": [
        "## Players: A List of Dictionaries\n",
        "\n",
        "This time, iterate over the `soccer_match` list to create a new list with the players from each team. `players` should be a single list containing the dictionaries for each of the country's players."
      ]
    },
    {
      "cell_type": "code",
      "execution_count": 5,
      "metadata": {
        "id": "_xh2W0E3YNCu",
        "outputId": "f4ba5cb6-07fc-4199-e3c8-beebba803e3c",
        "colab": {
          "base_uri": "https://localhost:8080/"
        }
      },
      "outputs": [
        {
          "output_type": "stream",
          "name": "stdout",
          "text": [
            "[]\n"
          ]
        }
      ],
      "source": [
        "players = []\n",
        "\n",
        "# Your code here\n",
        "\n",
        "print(players) # [{'name': 'Hugo LLORIS', 'captain': True, 'shirt_number': 1, 'position': 'Goalie'}, {'name': 'Benjamin PAVARD',...}, ...]"
      ]
    },
    {
      "cell_type": "markdown",
      "metadata": {
        "id": "hkcdLDKsYNCu"
      },
      "source": [
        "## Captains: Another List of Dictionaries!\n",
        "\n",
        "Iterate over the `soccer_match` list to create a new list with the captains from each team.\n",
        "\n",
        "This should be a single list containing the dictionaries for each of the countries' captains."
      ]
    },
    {
      "cell_type": "code",
      "execution_count": 6,
      "metadata": {
        "id": "MV5Ey33nYNCu",
        "outputId": "a670182f-a77f-4fcb-a793-a2509d47a186",
        "colab": {
          "base_uri": "https://localhost:8080/"
        }
      },
      "outputs": [
        {
          "output_type": "execute_result",
          "data": {
            "text/plain": [
              "[]"
            ]
          },
          "metadata": {},
          "execution_count": 6
        }
      ],
      "source": [
        "captains = []\n",
        "\n",
        "# Your code here\n",
        "\n",
        "captains # One captain per team:\n",
        "# [{'name': 'Hugo LLORIS',\n",
        "#   'captain': True,\n",
        "#   'shirt_number': 1,\n",
        "#   'position': 'Goalie'},\n",
        "#  {'name': 'Mile JEDINAK',\n",
        "#   'captain': True,\n",
        "#   'shirt_number': 15,\n",
        "#   'position': 'Midfield'}]"
      ]
    },
    {
      "cell_type": "markdown",
      "metadata": {
        "id": "xwfZVMCqYNCv"
      },
      "source": [
        "## Home Team Players: A Third List of Dictionaries\n",
        "\n",
        "Iterate over the `soccer_match` list to create a new list with the players from ONLY the home team.\n",
        "\n",
        "Do not \"hard-code\" which team this is; use the `'home_team'` key."
      ]
    },
    {
      "cell_type": "code",
      "execution_count": 7,
      "metadata": {
        "id": "vApzGKsJYNCv",
        "outputId": "bddb34f2-bfdb-46a2-e62e-8ffc983f9b75",
        "colab": {
          "base_uri": "https://localhost:8080/"
        }
      },
      "outputs": [
        {
          "output_type": "execute_result",
          "data": {
            "text/plain": [
              "[{'name': 'Hugo LLORIS',\n",
              "  'captain': True,\n",
              "  'shirt_number': 1,\n",
              "  'position': 'Goalie'},\n",
              " {'name': 'Benjamin PAVARD',\n",
              "  'captain': False,\n",
              "  'shirt_number': 2,\n",
              "  'position': 'Defender'},\n",
              " {'name': 'Raphael VARANE',\n",
              "  'captain': False,\n",
              "  'shirt_number': 4,\n",
              "  'position': 'Defender'},\n",
              " {'name': 'Samuel UMTITI',\n",
              "  'captain': False,\n",
              "  'shirt_number': 5,\n",
              "  'position': 'Defender'},\n",
              " {'name': 'Paul POGBA',\n",
              "  'captain': False,\n",
              "  'shirt_number': 6,\n",
              "  'position': 'Midfield'},\n",
              " {'name': 'Antoine GRIEZMANN',\n",
              "  'captain': False,\n",
              "  'shirt_number': 7,\n",
              "  'position': 'Forward'},\n",
              " {'name': 'Kylian MBAPPE',\n",
              "  'captain': False,\n",
              "  'shirt_number': 10,\n",
              "  'position': 'Forward'},\n",
              " {'name': 'Ousmane DEMBELE',\n",
              "  'captain': False,\n",
              "  'shirt_number': 11,\n",
              "  'position': 'Forward'},\n",
              " {'name': 'Corentin TOLISSO',\n",
              "  'captain': False,\n",
              "  'shirt_number': 12,\n",
              "  'position': 'Midfield'},\n",
              " {'name': 'Ngolo KANTE',\n",
              "  'captain': False,\n",
              "  'shirt_number': 13,\n",
              "  'position': 'Midfield'},\n",
              " {'name': 'Lucas HERNANDEZ',\n",
              "  'captain': False,\n",
              "  'shirt_number': 21,\n",
              "  'position': 'Defender'}]"
            ]
          },
          "metadata": {},
          "execution_count": 7
        }
      ],
      "source": [
        "home_team_players = []\n",
        "# code goes here\n",
        "for team in soccer_match:\n",
        "    if team['home_team']:\n",
        "        for player in team['players']:\n",
        "            home_team_players.append(player)\n",
        "home_team_players"
      ]
    },
    {
      "cell_type": "markdown",
      "metadata": {
        "id": "qXaGCBVjYNCv"
      },
      "source": [
        "## Away Team Forwards: Yup, a List of Dictionaries\n",
        "\n",
        "Iterate over the `soccer_match` list to create a new list with the information for each of the away team players whose `position` is `\"Forward\"`."
      ]
    },
    {
      "cell_type": "code",
      "execution_count": 8,
      "metadata": {
        "id": "v0FWs_QdYNCv",
        "outputId": "a359aac0-0272-481d-a2df-b437ca3d1116",
        "colab": {
          "base_uri": "https://localhost:8080/"
        }
      },
      "outputs": [
        {
          "output_type": "execute_result",
          "data": {
            "text/plain": [
              "[{'name': 'Mathew LECKIE',\n",
              "  'captain': False,\n",
              "  'shirt_number': 7,\n",
              "  'position': 'Forward'},\n",
              " {'name': 'Robbie KRUSE',\n",
              "  'captain': False,\n",
              "  'shirt_number': 10,\n",
              "  'position': 'Forward'},\n",
              " {'name': 'Andrew NABBOUT',\n",
              "  'captain': False,\n",
              "  'shirt_number': 11,\n",
              "  'position': 'Forward'}]"
            ]
          },
          "metadata": {},
          "execution_count": 8
        }
      ],
      "source": [
        "away_team_forwards = []\n",
        "for team in soccer_match:\n",
        "    if team['away_team']:\n",
        "        for player in team['players']:\n",
        "            if player['position'] == 'Forward':\n",
        "                away_team_forwards.append(player)\n",
        "away_team_forwards"
      ]
    },
    {
      "cell_type": "markdown",
      "metadata": {
        "id": "vdTnuuLiYNCv"
      },
      "source": [
        "## Player with the Highest Number\n",
        "\n",
        "Iterate over the `soccer_match` list and find the player with the highest `shirt_number`.  \n",
        "Store this player's information in the `player_with_highest_num` variable."
      ]
    },
    {
      "cell_type": "code",
      "execution_count": 9,
      "metadata": {
        "id": "b3Qh6HEEYNCv",
        "outputId": "cd3e3049-df9c-46e0-c0cc-270f76ca47fb",
        "colab": {
          "base_uri": "https://localhost:8080/"
        }
      },
      "outputs": [
        {
          "output_type": "execute_result",
          "data": {
            "text/plain": [
              "{'name': 'Tom ROGIC',\n",
              " 'captain': False,\n",
              " 'shirt_number': 23,\n",
              " 'position': 'Midfield'}"
            ]
          },
          "metadata": {},
          "execution_count": 9
        }
      ],
      "source": [
        "player_with_highest_num = None\n",
        "for team in soccer_match:\n",
        "    for player in team['players']:\n",
        "        if not player_with_highest_num or player_with_highest_num['shirt_number'] < player['shirt_number']:\n",
        "            player_with_highest_num = player\n",
        "player_with_highest_num"
      ]
    },
    {
      "cell_type": "markdown",
      "metadata": {
        "id": "QTYVwS5tYNCv"
      },
      "source": [
        "## Player Names: A Cleaned List\n",
        "\n",
        "Notice that the players oddly have their last names in all caps. Create a list of all the names of the players in this match. Be sure to make sure their first and last names are properly capitalized (first letter upper case, proceeding letters lower case), as opposed to how they are currently formatted."
      ]
    },
    {
      "cell_type": "code",
      "execution_count": 10,
      "metadata": {
        "id": "BPfCuWAPYNCv",
        "outputId": "094497d6-44e4-4080-f373-3b7239a085e3",
        "colab": {
          "base_uri": "https://localhost:8080/"
        }
      },
      "outputs": [
        {
          "output_type": "execute_result",
          "data": {
            "text/plain": [
              "['Hugo Lloris',\n",
              " 'Benjamin Pavard',\n",
              " 'Raphael Varane',\n",
              " 'Samuel Umtiti',\n",
              " 'Paul Pogba',\n",
              " 'Antoine Griezmann',\n",
              " 'Kylian Mbappe',\n",
              " 'Ousmane Dembele',\n",
              " 'Corentin Tolisso',\n",
              " 'Ngolo Kante',\n",
              " 'Lucas Hernandez',\n",
              " 'Mathew Ryan',\n",
              " 'Mark Milligan',\n",
              " 'Mathew Leckie',\n",
              " 'Robbie Kruse',\n",
              " 'Andrew Nabbout',\n",
              " 'Aaron Mooy',\n",
              " 'Mile Jedinak',\n",
              " 'Aziz Behich',\n",
              " 'Joshua Risdon',\n",
              " 'Trent Sainsbury',\n",
              " 'Tom Rogic']"
            ]
          },
          "metadata": {},
          "execution_count": 10
        }
      ],
      "source": [
        "player_names = []\n",
        "for team in soccer_match:\n",
        "    for player in team['players']:\n",
        "        player_names.append(player['name'].title())\n",
        "player_names"
      ]
    },
    {
      "cell_type": "markdown",
      "metadata": {
        "id": "H8U8DJOGYNCv"
      },
      "source": [
        "## Summary"
      ]
    },
    {
      "cell_type": "markdown",
      "metadata": {
        "id": "q7myZfbLYNCv"
      },
      "source": [
        "In this lab, you practiced using nested loops to iterate through a nested data structure using data from a soccer match. Nested data structures can be quite complicated and it can become difficult to access more nested data. With nested loops, you are able to dynamically access this nested data and work with it as you would with a flatter data structure. It is important to think about the structure of the data before and while you're working so you know exactly what data you are working with at each level."
      ]
    }
  ],
  "metadata": {
    "kernelspec": {
      "display_name": "Python (learn-env)",
      "language": "python",
      "name": "learn-env"
    },
    "language_info": {
      "codemirror_mode": {
        "name": "ipython",
        "version": 3
      },
      "file_extension": ".py",
      "mimetype": "text/x-python",
      "name": "python",
      "nbconvert_exporter": "python",
      "pygments_lexer": "ipython3",
      "version": "3.8.5"
    },
    "toc": {
      "base_numbering": 1,
      "nav_menu": {},
      "number_sections": true,
      "sideBar": true,
      "skip_h1_title": false,
      "title_cell": "Table of Contents",
      "title_sidebar": "Contents",
      "toc_cell": false,
      "toc_position": {},
      "toc_section_display": true,
      "toc_window_display": false
    },
    "colab": {
      "provenance": [],
      "name": "Using Nested Loops - Lab.ipynb",
      "include_colab_link": true
    }
  },
  "nbformat": 4,
  "nbformat_minor": 0
}