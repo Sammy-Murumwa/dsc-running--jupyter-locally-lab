{
  "nbformat": 4,
  "nbformat_minor": 0,
  "metadata": {
    "colab": {
      "provenance": [],
      "authorship_tag": "ABX9TyNwGDASQG73ALbn6CTthpf4",
      "include_colab_link": true
    },
    "kernelspec": {
      "name": "python3",
      "display_name": "Python 3"
    },
    "language_info": {
      "name": "python"
    }
  },
  "cells": [
    {
      "cell_type": "markdown",
      "metadata": {
        "id": "view-in-github",
        "colab_type": "text"
      },
      "source": [
        "<a href=\"https://colab.research.google.com/github/Sammy-Murumwa/dsc-running-jupyter-locally/blob/master/Accessing_Data_within_Pandas_Lab.ipynb\" target=\"_parent\"><img src=\"https://colab.research.google.com/assets/colab-badge.svg\" alt=\"Open In Colab\"/></a>"
      ]
    },
    {
      "cell_type": "markdown",
      "source": [
        "#Accessing Data within Pandas - Lab"
      ],
      "metadata": {
        "id": "y5DBQ7uhRP3O"
      }
    },
    {
      "cell_type": "markdown",
      "source": [
        "#Introduction"
      ],
      "metadata": {
        "id": "vUCwko3bRYMo"
      }
    },
    {
      "cell_type": "markdown",
      "source": [
        "in this lab, we'll look at a dataset which contains information on World Cup matches. Let's use the pandas commands learned in the previous lesson to learn more about our data!"
      ],
      "metadata": {
        "id": "n45_b4oQRmfc"
      }
    },
    {
      "cell_type": "markdown",
      "source": [
        "#Objectives\n",
        "\n",
        "You will be able to:\n",
        "\n",
        "Use pandas methods and attributes to access information about a dataset\n",
        "Index pandas dataframes with .loc, .iloc, and column names\n",
        "Use a boolean mask to index pandas series and dataframes"
      ],
      "metadata": {
        "id": "EEHoE5U6R38g"
      }
    },
    {
      "cell_type": "markdown",
      "source": [
        "#Load Data\n",
        "\n",
        "## Load the file 'WorldCupMatches.csv' as a DataFrame in pandas."
      ],
      "metadata": {
        "id": "VtGibrm1SONP"
      }
    },
    {
      "cell_type": "code",
      "source": [
        "# Import the pandas library with the alias 'pd'\n",
        "import pandas as pd"
      ],
      "metadata": {
        "id": "9qIDqd17U6ZB"
      },
      "execution_count": 2,
      "outputs": []
    },
    {
      "cell_type": "code",
      "source": [
        "# Load 'WorldCupMatches.csv' as a DataFrame\n",
        "df = pd.read_csv('WorldCupMatches.csv')"
      ],
      "metadata": {
        "id": "ngOCAegMSh0s"
      },
      "execution_count": 3,
      "outputs": []
    },
    {
      "cell_type": "code",
      "source": [
        "print(df.head())"
      ],
      "metadata": {
        "colab": {
          "base_uri": "https://localhost:8080/"
        },
        "id": "2spYo5vFVHQL",
        "outputId": "70468ab5-ad58-41ec-d370-ffb8ffb9be73"
      },
      "execution_count": 4,
      "outputs": [
        {
          "output_type": "stream",
          "name": "stdout",
          "text": [
            "   Year              Datetime    Stage         Stadium         City  \\\n",
            "0  1930  13 Jul 1930 - 15:00   Group 1         Pocitos  Montevideo    \n",
            "1  1930  13 Jul 1930 - 15:00   Group 4  Parque Central  Montevideo    \n",
            "2  1930  14 Jul 1930 - 12:45   Group 2  Parque Central  Montevideo    \n",
            "3  1930  14 Jul 1930 - 14:50   Group 3         Pocitos  Montevideo    \n",
            "4  1930  15 Jul 1930 - 16:00   Group 1  Parque Central  Montevideo    \n",
            "\n",
            "  Home Team Name  Home Team Goals  Away Team Goals Away Team Name  \\\n",
            "0         France                4                1         Mexico   \n",
            "1            USA                3                0        Belgium   \n",
            "2     Yugoslavia                2                1         Brazil   \n",
            "3        Romania                3                1           Peru   \n",
            "4      Argentina                1                0         France   \n",
            "\n",
            "  Win conditions  Attendance  Half-time Home Goals  Half-time Away Goals  \\\n",
            "0                     4444.0                     3                     0   \n",
            "1                    18346.0                     2                     0   \n",
            "2                    24059.0                     2                     0   \n",
            "3                     2549.0                     1                     0   \n",
            "4                    23409.0                     0                     0   \n",
            "\n",
            "                  Referee               Assistant 1  \\\n",
            "0  LOMBARDI Domingo (URU)     CRISTOPHE Henry (BEL)   \n",
            "1       MACIAS Jose (ARG)  MATEUCCI Francisco (URU)   \n",
            "2     TEJADA Anibal (URU)   VALLARINO Ricardo (URU)   \n",
            "3   WARNKEN Alberto (CHI)       LANGENUS Jean (BEL)   \n",
            "4     REGO Gilberto (BRA)      SAUCEDO Ulises (BOL)   \n",
            "\n",
            "                  Assistant 2  RoundID  MatchID Home Team Initials  \\\n",
            "0         REGO Gilberto (BRA)      201     1096                FRA   \n",
            "1       WARNKEN Alberto (CHI)      201     1090                USA   \n",
            "2         BALWAY Thomas (FRA)      201     1093                YUG   \n",
            "3    MATEUCCI Francisco (URU)      201     1098                ROU   \n",
            "4  RADULESCU Constantin (ROU)      201     1085                ARG   \n",
            "\n",
            "  Away Team Initials  \n",
            "0                MEX  \n",
            "1                BEL  \n",
            "2                BRA  \n",
            "3                PER  \n",
            "4                FRA  \n"
          ]
        }
      ]
    },
    {
      "cell_type": "code",
      "source": [
        "print(df.info())"
      ],
      "metadata": {
        "colab": {
          "base_uri": "https://localhost:8080/"
        },
        "id": "JLH8B12mVIhz",
        "outputId": "5d2a698a-9bd6-4a51-f979-7cc2e07818d0"
      },
      "execution_count": 5,
      "outputs": [
        {
          "output_type": "stream",
          "name": "stdout",
          "text": [
            "<class 'pandas.core.frame.DataFrame'>\n",
            "RangeIndex: 852 entries, 0 to 851\n",
            "Data columns (total 20 columns):\n",
            " #   Column                Non-Null Count  Dtype  \n",
            "---  ------                --------------  -----  \n",
            " 0   Year                  852 non-null    int64  \n",
            " 1   Datetime              852 non-null    object \n",
            " 2   Stage                 852 non-null    object \n",
            " 3   Stadium               852 non-null    object \n",
            " 4   City                  852 non-null    object \n",
            " 5   Home Team Name        852 non-null    object \n",
            " 6   Home Team Goals       852 non-null    int64  \n",
            " 7   Away Team Goals       852 non-null    int64  \n",
            " 8   Away Team Name        852 non-null    object \n",
            " 9   Win conditions        852 non-null    object \n",
            " 10  Attendance            850 non-null    float64\n",
            " 11  Half-time Home Goals  852 non-null    int64  \n",
            " 12  Half-time Away Goals  852 non-null    int64  \n",
            " 13  Referee               852 non-null    object \n",
            " 14  Assistant 1           852 non-null    object \n",
            " 15  Assistant 2           852 non-null    object \n",
            " 16  RoundID               852 non-null    int64  \n",
            " 17  MatchID               852 non-null    int64  \n",
            " 18  Home Team Initials    852 non-null    object \n",
            " 19  Away Team Initials    852 non-null    object \n",
            "dtypes: float64(1), int64(7), object(12)\n",
            "memory usage: 133.2+ KB\n",
            "None\n"
          ]
        }
      ]
    },
    {
      "cell_type": "markdown",
      "source": [
        "#Access Data Using .loc and .iloc\n",
        "You can access data in the DataFrame using different indexing methods:\n",
        "\n",
        "Using .loc[] to access rows and columns by labels:"
      ],
      "metadata": {
        "id": "XB3GFhfqVVWt"
      }
    },
    {
      "cell_type": "code",
      "source": [
        "# Access data for a specific row by index label\n",
        "row_data = df.loc[0]\n",
        "# Access specific columns for a specific row\n",
        "specific_data = df.loc[0, ['Home Team Name', 'Away Team Name']]"
      ],
      "metadata": {
        "id": "G16oCAD6VkkV"
      },
      "execution_count": 7,
      "outputs": []
    },
    {
      "cell_type": "code",
      "source": [
        "# Access data for the first row\n",
        "row_data = df.iloc[0]\n",
        "\n",
        "# Access data from the first row and first column\n",
        "specific_data = df.iloc[0, 0]\n",
        "\n",
        "# Access data from the first 5 rows and first 3 columns\n",
        "subset_data = df.iloc[:5, :3]"
      ],
      "metadata": {
        "id": "LtBKSpdWVqEf"
      },
      "execution_count": 8,
      "outputs": []
    },
    {
      "cell_type": "markdown",
      "source": [
        " # Use Boolean Masks to Filter Data\n",
        "\n",
        "\n"
      ],
      "metadata": {
        "id": "XbXr2_csWGOn"
      }
    },
    {
      "cell_type": "code",
      "source": [
        "# Filter rows where the Home Team scored more than 2 goals\n",
        "filtered_data = df[df['Home Team Goals'] > 2]"
      ],
      "metadata": {
        "id": "nUWiSINDWUa_"
      },
      "execution_count": 10,
      "outputs": []
    },
    {
      "cell_type": "code",
      "source": [
        "\n",
        "df.columns"
      ],
      "metadata": {
        "colab": {
          "base_uri": "https://localhost:8080/"
        },
        "id": "zWy4eU1lYspc",
        "outputId": "082fcd37-ea2a-4687-c44a-73d331af3fb2"
      },
      "execution_count": 18,
      "outputs": [
        {
          "output_type": "execute_result",
          "data": {
            "text/plain": [
              "Index(['Year', 'Datetime', 'Stage', 'Stadium', 'City', 'Home Team Name',\n",
              "       'Home Team Goals', 'Away Team Goals', 'Away Team Name',\n",
              "       'Win conditions', 'Attendance', 'Half-time Home Goals',\n",
              "       'Half-time Away Goals', 'Referee', 'Assistant 1', 'Assistant 2',\n",
              "       'RoundID', 'MatchID', 'Home Team Initials', 'Away Team Initials'],\n",
              "      dtype='object')"
            ]
          },
          "metadata": {},
          "execution_count": 18
        }
      ]
    },
    {
      "cell_type": "code",
      "source": [
        "\n",
        "\n",
        "# Display all records containing the string 'Korea'\n",
        "df.loc[df['Home Team Name'].str.contains('Korea'), 'Home Team Name']"
      ],
      "metadata": {
        "colab": {
          "base_uri": "https://localhost:8080/",
          "height": 617
        },
        "id": "4OSbh6NcY6Mb",
        "outputId": "9a43dc3c-72e9-4363-dd29-384c309f7c98"
      },
      "execution_count": 20,
      "outputs": [
        {
          "output_type": "execute_result",
          "data": {
            "text/plain": [
              "179         Korea DPR\n",
              "187         Korea DPR\n",
              "374    Korea Republic\n",
              "386    Korea Republic\n",
              "434    Korea Republic\n",
              "444    Korea Republic\n",
              "480    Korea Republic\n",
              "524    Korea Republic\n",
              "593    Korea Republic\n",
              "609    Korea Republic\n",
              "635    Korea Republic\n",
              "642    Korea Republic\n",
              "655    Korea Republic\n",
              "710    Korea Republic\n",
              "753         Korea DPR\n",
              "802    Korea Republic\n",
              "818    Korea Republic\n",
              "Name: Home Team Name, dtype: object"
            ],
            "text/html": [
              "<div>\n",
              "<style scoped>\n",
              "    .dataframe tbody tr th:only-of-type {\n",
              "        vertical-align: middle;\n",
              "    }\n",
              "\n",
              "    .dataframe tbody tr th {\n",
              "        vertical-align: top;\n",
              "    }\n",
              "\n",
              "    .dataframe thead th {\n",
              "        text-align: right;\n",
              "    }\n",
              "</style>\n",
              "<table border=\"1\" class=\"dataframe\">\n",
              "  <thead>\n",
              "    <tr style=\"text-align: right;\">\n",
              "      <th></th>\n",
              "      <th>Home Team Name</th>\n",
              "    </tr>\n",
              "  </thead>\n",
              "  <tbody>\n",
              "    <tr>\n",
              "      <th>179</th>\n",
              "      <td>Korea DPR</td>\n",
              "    </tr>\n",
              "    <tr>\n",
              "      <th>187</th>\n",
              "      <td>Korea DPR</td>\n",
              "    </tr>\n",
              "    <tr>\n",
              "      <th>374</th>\n",
              "      <td>Korea Republic</td>\n",
              "    </tr>\n",
              "    <tr>\n",
              "      <th>386</th>\n",
              "      <td>Korea Republic</td>\n",
              "    </tr>\n",
              "    <tr>\n",
              "      <th>434</th>\n",
              "      <td>Korea Republic</td>\n",
              "    </tr>\n",
              "    <tr>\n",
              "      <th>444</th>\n",
              "      <td>Korea Republic</td>\n",
              "    </tr>\n",
              "    <tr>\n",
              "      <th>480</th>\n",
              "      <td>Korea Republic</td>\n",
              "    </tr>\n",
              "    <tr>\n",
              "      <th>524</th>\n",
              "      <td>Korea Republic</td>\n",
              "    </tr>\n",
              "    <tr>\n",
              "      <th>593</th>\n",
              "      <td>Korea Republic</td>\n",
              "    </tr>\n",
              "    <tr>\n",
              "      <th>609</th>\n",
              "      <td>Korea Republic</td>\n",
              "    </tr>\n",
              "    <tr>\n",
              "      <th>635</th>\n",
              "      <td>Korea Republic</td>\n",
              "    </tr>\n",
              "    <tr>\n",
              "      <th>642</th>\n",
              "      <td>Korea Republic</td>\n",
              "    </tr>\n",
              "    <tr>\n",
              "      <th>655</th>\n",
              "      <td>Korea Republic</td>\n",
              "    </tr>\n",
              "    <tr>\n",
              "      <th>710</th>\n",
              "      <td>Korea Republic</td>\n",
              "    </tr>\n",
              "    <tr>\n",
              "      <th>753</th>\n",
              "      <td>Korea DPR</td>\n",
              "    </tr>\n",
              "    <tr>\n",
              "      <th>802</th>\n",
              "      <td>Korea Republic</td>\n",
              "    </tr>\n",
              "    <tr>\n",
              "      <th>818</th>\n",
              "      <td>Korea Republic</td>\n",
              "    </tr>\n",
              "  </tbody>\n",
              "</table>\n",
              "</div><br><label><b>dtype:</b> object</label>"
            ]
          },
          "metadata": {},
          "execution_count": 20
        }
      ]
    }
  ]
}